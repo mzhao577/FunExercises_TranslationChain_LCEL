{
 "cells": [
  {
   "cell_type": "code",
   "execution_count": 1,
   "id": "2a691545-0faa-48ed-93e3-ab1687e32b4a",
   "metadata": {},
   "outputs": [],
   "source": [
    "import warnings\n",
    "warnings.filterwarnings('ignore')"
   ]
  },
  {
   "cell_type": "code",
   "execution_count": 2,
   "id": "526a196b-cd4b-45d2-9c1f-8a0001cfc19a",
   "metadata": {},
   "outputs": [],
   "source": [
    "import os\n",
    "\n",
    "from dotenv import load_dotenv, find_dotenv\n",
    "_ = load_dotenv(find_dotenv()) # read local .env file\n",
    "OPENAI_API_KEY=os.environ[\"OPENAI_API_KEY\"]"
   ]
  },
  {
   "cell_type": "code",
   "execution_count": 3,
   "id": "388a7e48-1b11-41b3-9465-77a62643b2d2",
   "metadata": {},
   "outputs": [],
   "source": [
    "# account for deprecation of LLM model\n",
    "import datetime\n",
    "# Get the current date\n",
    "current_date = datetime.datetime.now().date()\n",
    "\n",
    "# Define the date after which the model should be set to \"gpt-3.5-turbo\"\n",
    "target_date = datetime.date(2024, 6, 12)\n",
    "\n",
    "# Set the model variable based on the current date\n",
    "if current_date > target_date:\n",
    "    llm_model = \"gpt-3.5-turbo\"\n",
    "else:\n",
    "    llm_model = \"gpt-3.5-turbo-0301\""
   ]
  },
  {
   "cell_type": "markdown",
   "id": "a5808988-d880-4fc0-b57c-bf1d843e0d55",
   "metadata": {},
   "source": [
    "Experiments 2: Use the langchain expression language, not so neat!!!!"
   ]
  },
  {
   "cell_type": "code",
   "execution_count": 4,
   "id": "4b8b191c-6950-4599-adcf-cd255339f6fc",
   "metadata": {},
   "outputs": [],
   "source": [
    "from langchain.prompts import PromptTemplate\n",
    "\n",
    "prompt_translator1 = PromptTemplate.from_template(\n",
    "    \"\"\"\n",
    "    You are an Expert in French. Given the Review below, please translate it into French.\n",
    "    Review: {review}\n",
    "    \"\"\"\n",
    ")"
   ]
  },
  {
   "cell_type": "code",
   "execution_count": 5,
   "id": "6e5f249e-b5d3-4845-9e62-6921cf408479",
   "metadata": {},
   "outputs": [],
   "source": [
    "prompt_translator2 = PromptTemplate.from_template(\n",
    "    \"\"\"\n",
    "    You are an Expert in Chinese. Given the Review below, please translate it into Chinese.\n",
    "    Review: {review2}\n",
    "    \"\"\"\n",
    ")"
   ]
  },
  {
   "cell_type": "code",
   "execution_count": 6,
   "id": "08b5de44-553e-4dcf-934a-0bb11794ad03",
   "metadata": {},
   "outputs": [],
   "source": [
    "prompt_translator3 = PromptTemplate.from_template(\n",
    "    \"\"\"\n",
    "    You are an Expert in Italian. Given the Review below, please translate it into Italian.\n",
    "    Review: {review3}\n",
    "    \"\"\"\n",
    ")"
   ]
  },
  {
   "cell_type": "code",
   "execution_count": 7,
   "id": "4db0d065-3290-4cb2-8c06-04bca8354234",
   "metadata": {},
   "outputs": [],
   "source": [
    "prompt_translator4 = PromptTemplate.from_template(\n",
    "    \"\"\"\n",
    "    You are an Expert in English. Given the Review below, please translate it into English.\n",
    "    Review: {review4}\n",
    "    \"\"\"\n",
    ")"
   ]
  },
  {
   "cell_type": "code",
   "execution_count": 8,
   "id": "41dad842-ed0f-4235-abdd-2bec5f7e0e81",
   "metadata": {},
   "outputs": [
    {
     "data": {
      "text/plain": [
       "'Translation: I like my tennis ball launcher. It is compact, powerful, and completely meets my expectations. I absolutely recommend it!'"
      ]
     },
     "execution_count": 8,
     "metadata": {},
     "output_type": "execute_result"
    }
   ],
   "source": [
    "from langchain_openai import ChatOpenAI\n",
    "from langchain.schema import StrOutputParser\n",
    "\n",
    "llm = ChatOpenAI(model=llm_model,temperature=0.1)\n",
    "chain = (\n",
    "   {\"review4\":\n",
    "        {\"review3\":\n",
    "             {\"review2\":prompt_translator1 | llm | StrOutputParser() }\n",
    "        | prompt_translator2 | llm | StrOutputParser() }\n",
    "    | prompt_translator3 | llm | StrOutputParser() }\n",
    "    | prompt_translator4 | llm | StrOutputParser()\n",
    ")\n",
    "chain.invoke({\"review\": \"I love my tennis lancher very much. It is compact, powerful and works just as I expect. Definitely recommend it! \"})"
   ]
  },
  {
   "cell_type": "code",
   "execution_count": null,
   "id": "3addafc8-38a9-4528-979a-1cd9756d8176",
   "metadata": {},
   "outputs": [],
   "source": []
  }
 ],
 "metadata": {
  "kernelspec": {
   "display_name": "langchainlcel",
   "language": "python",
   "name": "langchainlcel"
  },
  "language_info": {
   "codemirror_mode": {
    "name": "ipython",
    "version": 3
   },
   "file_extension": ".py",
   "mimetype": "text/x-python",
   "name": "python",
   "nbconvert_exporter": "python",
   "pygments_lexer": "ipython3",
   "version": "3.12.4"
  }
 },
 "nbformat": 4,
 "nbformat_minor": 5
}

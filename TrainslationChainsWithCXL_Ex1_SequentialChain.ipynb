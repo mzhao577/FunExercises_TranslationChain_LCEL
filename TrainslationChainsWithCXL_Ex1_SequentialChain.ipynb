{
 "cells": [
  {
   "cell_type": "code",
   "execution_count": 1,
   "id": "2a691545-0faa-48ed-93e3-ab1687e32b4a",
   "metadata": {},
   "outputs": [],
   "source": [
    "import warnings\n",
    "warnings.filterwarnings('ignore')"
   ]
  },
  {
   "cell_type": "code",
   "execution_count": 2,
   "id": "526a196b-cd4b-45d2-9c1f-8a0001cfc19a",
   "metadata": {},
   "outputs": [],
   "source": [
    "import os\n",
    "\n",
    "from dotenv import load_dotenv, find_dotenv\n",
    "_ = load_dotenv(find_dotenv()) # read local .env file\n",
    "OPENAI_API_KEY=os.environ[\"OPENAI_API_KEY\"]"
   ]
  },
  {
   "cell_type": "code",
   "execution_count": 3,
   "id": "388a7e48-1b11-41b3-9465-77a62643b2d2",
   "metadata": {},
   "outputs": [],
   "source": [
    "# account for deprecation of LLM model\n",
    "import datetime\n",
    "# Get the current date\n",
    "current_date = datetime.datetime.now().date()\n",
    "\n",
    "# Define the date after which the model should be set to \"gpt-3.5-turbo\"\n",
    "target_date = datetime.date(2024, 6, 12)\n",
    "\n",
    "# Set the model variable based on the current date\n",
    "if current_date > target_date:\n",
    "    llm_model = \"gpt-3.5-turbo\"\n",
    "else:\n",
    "    llm_model = \"gpt-3.5-turbo-0301\""
   ]
  },
  {
   "cell_type": "markdown",
   "id": "fc914f19-f7bb-4164-80c7-8ae27dbc7ec0",
   "metadata": {},
   "source": [
    "Experiemnts 1: Use regular Sequential Chains"
   ]
  },
  {
   "cell_type": "code",
   "execution_count": 4,
   "id": "65978434-8f3b-48ab-917d-ab3b7de2018b",
   "metadata": {},
   "outputs": [],
   "source": [
    "from langchain_openai import ChatOpenAI\n",
    "from langchain.prompts import ChatPromptTemplate\n",
    "from langchain.chains import LLMChain\n",
    "from langchain.chains import SimpleSequentialChain\n",
    "from langchain.chains import SequentialChain"
   ]
  },
  {
   "cell_type": "code",
   "execution_count": 5,
   "id": "61f2f73f-cd69-4609-ac55-e009aea74349",
   "metadata": {},
   "outputs": [],
   "source": [
    "llm = ChatOpenAI(temperature=0.0, model=llm_model)"
   ]
  },
  {
   "cell_type": "code",
   "execution_count": 6,
   "id": "2a31867c-0dbb-4e0c-9238-0e929c2d5320",
   "metadata": {},
   "outputs": [
    {
     "name": "stderr",
     "output_type": "stream",
     "text": [
      "/var/folders/rm/ffmtyr9j47nccz_6s1wjrlzh0000gp/T/ipykernel_6472/2128832746.py:6: LangChainDeprecationWarning: The class `LLMChain` was deprecated in LangChain 0.1.17 and will be removed in 1.0. Use :meth:`~RunnableSequence, e.g., `prompt | llm`` instead.\n",
      "  chain_one = LLMChain(llm=llm, prompt=first_prompt, output_key=\"Translation1\")\n"
     ]
    }
   ],
   "source": [
    "# prompt template 1: translate to english\n",
    "first_prompt = ChatPromptTemplate.from_template(\n",
    "    \"Translate the following review to {lang1}:\"\n",
    "    \"\\n\\n{review}\"\n",
    ")\n",
    "chain_one = LLMChain(llm=llm, prompt=first_prompt, output_key=\"Translation1\")"
   ]
  },
  {
   "cell_type": "code",
   "execution_count": 7,
   "id": "ccbca181-e79a-4a01-997a-f8a9318a6722",
   "metadata": {},
   "outputs": [],
   "source": [
    "second_prompt = ChatPromptTemplate.from_template(\n",
    "    \"Translate the following review to {lang2}:\"\n",
    "    \"\\n\\n{Translation1}\"\n",
    ")\n",
    "chain_two = LLMChain(llm=llm, prompt=second_prompt, output_key=\"Translation2\")\n"
   ]
  },
  {
   "cell_type": "code",
   "execution_count": 8,
   "id": "8e2e8c34-cf0d-46bc-97f3-eae4a69bb137",
   "metadata": {},
   "outputs": [],
   "source": [
    "third_prompt = ChatPromptTemplate.from_template(\n",
    "    \"Translate the following review to {lang3}:\"\n",
    "    \"\\n\\n{Translation2}\"\n",
    ")\n",
    "chain_three = LLMChain(llm=llm, prompt=third_prompt,  output_key=\"Translation3\")"
   ]
  },
  {
   "cell_type": "code",
   "execution_count": 9,
   "id": "27a13845-c0b4-4ee5-b1bc-5b1517a88240",
   "metadata": {},
   "outputs": [],
   "source": [
    "fourth_prompt = ChatPromptTemplate.from_template(\n",
    "    \"Translate the following review to {lang4}:\"\n",
    "    \"\\n\\n{Translation3}\"\n",
    ")\n",
    "chain_four = LLMChain(llm=llm, prompt=fourth_prompt,  output_key=\"Translation4\")"
   ]
  },
  {
   "cell_type": "code",
   "execution_count": 10,
   "id": "d393e18e-9cee-440f-ae1c-2a2836aa6436",
   "metadata": {},
   "outputs": [],
   "source": [
    "fifth_prompt = ChatPromptTemplate.from_template(\n",
    "    \"Translate the following review to {lang0}:\"\n",
    "    \"\\n\\n{Translation4}\"\n",
    ")\n",
    "chain_five = LLMChain(llm=llm, prompt=fifth_prompt,  output_key=\"Translation5\")"
   ]
  },
  {
   "cell_type": "code",
   "execution_count": 11,
   "id": "2a71cbee-a6e3-45af-aaf6-2ac81997fb67",
   "metadata": {},
   "outputs": [
    {
     "name": "stdout",
     "output_type": "stream",
     "text": [
      "input_variables=['lang1', 'review'] input_types={} partial_variables={} messages=[HumanMessagePromptTemplate(prompt=PromptTemplate(input_variables=['lang1', 'review'], input_types={}, partial_variables={}, template='Translate the following review to {lang1}:\\n\\n{review}'), additional_kwargs={})]\n",
      "input_variables=['Translation1', 'lang2'] input_types={} partial_variables={} messages=[HumanMessagePromptTemplate(prompt=PromptTemplate(input_variables=['Translation1', 'lang2'], input_types={}, partial_variables={}, template='Translate the following review to {lang2}:\\n\\n{Translation1}'), additional_kwargs={})]\n",
      "input_variables=['Translation2', 'lang3'] input_types={} partial_variables={} messages=[HumanMessagePromptTemplate(prompt=PromptTemplate(input_variables=['Translation2', 'lang3'], input_types={}, partial_variables={}, template='Translate the following review to {lang3}:\\n\\n{Translation2}'), additional_kwargs={})]\n",
      "input_variables=['Translation3', 'lang4'] input_types={} partial_variables={} messages=[HumanMessagePromptTemplate(prompt=PromptTemplate(input_variables=['Translation3', 'lang4'], input_types={}, partial_variables={}, template='Translate the following review to {lang4}:\\n\\n{Translation3}'), additional_kwargs={})]\n",
      "input_variables=['Translation4', 'lang0'] input_types={} partial_variables={} messages=[HumanMessagePromptTemplate(prompt=PromptTemplate(input_variables=['Translation4', 'lang0'], input_types={}, partial_variables={}, template='Translate the following review to {lang0}:\\n\\n{Translation4}'), additional_kwargs={})]\n"
     ]
    }
   ],
   "source": [
    "print(first_prompt)\n",
    "print(second_prompt)\n",
    "print(third_prompt)\n",
    "print(fourth_prompt)\n",
    "print(fifth_prompt)\n"
   ]
  },
  {
   "cell_type": "code",
   "execution_count": 12,
   "id": "01061bd7-0db1-4a9c-8ea3-9a70d4ef56c8",
   "metadata": {},
   "outputs": [],
   "source": [
    "### DEfine the Sequential Chains\n",
    "overall_chain = SequentialChain(\n",
    "    chains=[chain_one,chain_two,chain_three,chain_four,chain_five],\n",
    "    input_variables=['review','lang0','lang1','lang2','lang3','lang4'],\n",
    "    output_variables=['Translation1','Translation2','Translation3','Translation4','Translation5'],\n",
    "    verbose=True\n",
    ")"
   ]
  },
  {
   "cell_type": "code",
   "execution_count": 13,
   "id": "f37c6715-fe2b-4a19-8fa7-3b1ff6269fa6",
   "metadata": {},
   "outputs": [
    {
     "name": "stderr",
     "output_type": "stream",
     "text": [
      "/var/folders/rm/ffmtyr9j47nccz_6s1wjrlzh0000gp/T/ipykernel_6472/813702941.py:5: LangChainDeprecationWarning: The method `Chain.__call__` was deprecated in langchain 0.1.0 and will be removed in 1.0. Use :meth:`~invoke` instead.\n",
      "  tt = overall_chain(inputVar)\n",
      "Error in StdOutCallbackHandler.on_chain_start callback: AttributeError(\"'NoneType' object has no attribute 'get'\")\n"
     ]
    },
    {
     "name": "stdout",
     "output_type": "stream",
     "text": [
      "\n",
      "\u001b[1m> Finished chain.\u001b[0m\n"
     ]
    }
   ],
   "source": [
    "### Substantiate the Sequentia chain.\n",
    "inputVar={'review':'I love my tennis lancher very much. It is compact, powerful and works just as I expect. Definitely recommend it!', \n",
    "           'lang0':'English','lang1': 'French', 'lang2':'Germany','lang3':'Italian','lang4':'Chinese'}\n",
    "\n",
    "tt = overall_chain(inputVar)\n"
   ]
  },
  {
   "cell_type": "code",
   "execution_count": 14,
   "id": "dd92c6b3-1d3e-4baf-8dfd-d18b7a019948",
   "metadata": {},
   "outputs": [
    {
     "name": "stdout",
     "output_type": "stream",
     "text": [
      "i =  0 ----    I love my tennis lancher very much. It is compact, powerful and works just as I expect. Definitely recommend it!\n",
      "i =  1  ---- J'adore mon lanceur de tennis. Il est compact, puissant et fonctionne exactement comme je m'y attends. Je le recommande vivement !\n",
      "i =  2  ---- Ich liebe meinen Tennisschläger. Er ist kompakt, leistungsstark und funktioniert genau so, wie ich es erwarte. Ich kann ihn nur wärmstens empfehlen!\n",
      "i =  3  ---- Adoro la mia racchetta da tennis. È compatta, potente e funziona esattamente come mi aspetto. Posso solo raccomandarla caldamente!\n",
      "i =  4  ---- 我喜欢我的网球拍。它紧凑，强大，而且正如我期望的那样工作。我强烈推荐它！\n",
      "i =  5  ---- I love my tennis racket. It is compact, powerful, and works just as I expected. I highly recommend it!\n"
     ]
    }
   ],
   "source": [
    "print(\"i =  0 ----   \",tt['review'])\n",
    "for i in range(1,6):\n",
    "    print(\"i = \",i,\" ----\", tt['Translation'+str(i)])\n"
   ]
  },
  {
   "cell_type": "code",
   "execution_count": null,
   "id": "5b667fb5",
   "metadata": {},
   "outputs": [],
   "source": []
  }
 ],
 "metadata": {
  "kernelspec": {
   "display_name": "langchainlcel",
   "language": "python",
   "name": "langchainlcel"
  },
  "language_info": {
   "codemirror_mode": {
    "name": "ipython",
    "version": 3
   },
   "file_extension": ".py",
   "mimetype": "text/x-python",
   "name": "python",
   "nbconvert_exporter": "python",
   "pygments_lexer": "ipython3",
   "version": "3.12.4"
  }
 },
 "nbformat": 4,
 "nbformat_minor": 5
}
